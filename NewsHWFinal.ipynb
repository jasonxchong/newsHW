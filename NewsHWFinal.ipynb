{
 "cells": [
  {
   "cell_type": "markdown",
   "metadata": {},
   "source": [
    "# Obsersavations\n",
    "1 - Many of the tweets continue to fall in as neutral and it appears that the vader sentiment analysis is conservative or this represnts media outlets being careful on tone in messages\n",
    "2 - It was surprising to see that all 4 of the media mean scores were negative\n",
    "3 - Plotting this type of information makes it difficult to asses any trends which is why the bar chart is a more accurate representation for this excerise\n"
   ]
  },
  {
   "cell_type": "markdown",
   "metadata": {},
   "source": [
    "\n",
    "import tweepy\n",
    "import json\n",
    "import numpy as np\n",
    "from datetime import datetime\n",
    "import matplotlib.pyplot as plt\n",
    "import pandas as pd\n",
    "from vaderSentiment.vaderSentiment import SentimentIntensityAnalyzer\n",
    "analyzer = SentimentIntensityAnalyzer()\n",
    "import seaborn as sns\n",
    "import time\n",
    "\n",
    "consumer_key = \"uOF1mT0SLO9S8zMeGhqkJra8v\"\n",
    "consumer_secret = \"mI0QoCTbCBTLo9sMj7PgdimiW7AnXQXnFE46daqt4HidleL6RD\"\n",
    "access_token = \"969399623415562240-jPmZQZagnYGw8igneV1Dc8dzzGJSseG\"\n",
    "access_token_secret = \"JZCG8RfGTf5HbYe8k5drmpqpQQIX2rm4YxTG4jB67lqIA\"\n",
    "\n",
    "auth = tweepy.OAuthHandler(consumer_key, consumer_secret)\n",
    "auth.set_access_token(access_token, access_token_secret)\n",
    "api = tweepy.API(auth, parser=tweepy.parsers.JSONParser())"
   ]
  },
  {
   "cell_type": "markdown",
   "metadata": {},
   "source": [
    "target_users = [\"@BBCWorld\", \"@CBSNews\", \"@CNN\", \"@FoxNews\", \"@nytimes\"]\n",
    "\n",
    "compound_list = []\n",
    "positive_list = []\n",
    "negative_list = []\n",
    "neutral_list = []\n",
    "users = []\n",
    "text = []\n",
    "date = []\n",
    "tweets_ago = []"
   ]
  },
  {
   "cell_type": "markdown",
   "metadata": {},
   "source": [
    "for user in target_users:\n",
    "    \n",
    "    tweet_count = 0\n",
    "\n",
    "    for x in range(5):\n",
    "        public_tweets = api.user_timeline(user, page=x)\n",
    "\n",
    "        for tweet in public_tweets:\n",
    "        \n",
    "            tweet_count += 1\n",
    "    \n",
    "            users.append(user)\n",
    "            text.append(tweet['text'])\n",
    "            date.append(tweet['created_at'])\n",
    "            tweets_ago.append(tweet_count)\n",
    "    \n",
    "            compound = analyzer.polarity_scores(tweet[\"text\"])[\"compound\"]\n",
    "            pos = analyzer.polarity_scores(tweet[\"text\"])[\"pos\"]\n",
    "            neu = analyzer.polarity_scores(tweet[\"text\"])[\"neu\"]\n",
    "            neg = analyzer.polarity_scores(tweet[\"text\"])[\"neg\"]\n",
    "            \n",
    "            compound_list.append(compound)\n",
    "            positive_list.append(pos)\n",
    "            neutral_list.append(neu)\n",
    "            negative_list.append(neg)"
   ]
  },
  {
   "cell_type": "markdown",
   "metadata": {},
   "source": [
    "newsd = pd.DataFrame({\"Users\": users, \"Tweet\": text, \"Date\": date,\n",
    "    \"Compound\": compound_list, \"Positive\": positive_list,\n",
    "    \"Neutral\": neutral_list, \"Negative\": negative_list,\n",
    "    \"Tweets Ago\": tweets_ago})\n",
    "newsd.head()"
   ]
  },
  {
   "cell_type": "markdown",
   "metadata": {},
   "source": [
    "newsd.to_csv(\"newsmood.csv\")"
   ]
  },
  {
   "cell_type": "markdown",
   "metadata": {},
   "source": [
    "# Scatter Plot\n",
    "sns.set()\n",
    "plt.figure(figsize = (15,10))\n",
    "plt.xlim(105,-5)\n",
    "plt.ylim(-1,1)\n",
    "\n",
    "for user in target_users:\n",
    "    df = newsd.loc[newsd['Users'] == user]\n",
    "    plt.scatter(df[\"Tweets Ago\"],df[\"Compound\"], label = user, edgecolor = \"black\", s=125)\n",
    "\n",
    "plt.xlabel(\"Tweets Ago\",fontweight='bold')\n",
    "plt.ylabel(\"Tweet Polarity\",fontweight='bold')\n",
    "plt.title(\"Sentiment Analysis of Media Tweets (%s)\" % (time.strftime(\"%m/%d/%Y\")),fontweight='bold')\n",
    "\n",
    "plt.legend(bbox_to_anchor = (1,1), title = 'Users')    \n",
    "plt.savefig(\"Scatter Sentiment of Media Tweets\")\n",
    "\n",
    "plt.show()"
   ]
  },
  {
   "cell_type": "markdown",
   "metadata": {},
   "source": [
    "avg_vader = newsd.groupby(\"Users\")[\"Compound\"].mean()\n",
    "avg_vader"
   ]
  },
  {
   "cell_type": "markdown",
   "metadata": {},
   "source": [
    "#bar chart\n",
    "sns.set()\n",
    "plt.figure(figsize = (15,10))\n",
    "x_axis = np.arange(len(avg_vader))\n",
    "xlabels = avg_vader.index\n",
    "count = 0\n",
    "for vader in avg_vader:\n",
    "    plt.text(count, vader+.01, str(round(vader,2)))\n",
    "    count = count + 1\n",
    "plt.bar(x_axis, avg_vader, tick_label = xlabels, color = ['r', 'b', 'y', 'g', 'c'])\n",
    "plt.title(\"Overall Sentiment of Media Tweets (%s)\" % (time.strftime(\"%m/%d/%Y\")),fontweight='bold')\n",
    "plt.xlabel(\"Media Outlet\")\n",
    "plt.ylabel(\"Tweet Polarity\")\n",
    "plt.savefig(\"Overall Sentiment of Media Tweets\")\n",
    "plt.show()"
   ]
  },
  {
   "cell_type": "code",
   "execution_count": null,
   "metadata": {
    "collapsed": true
   },
   "outputs": [],
   "source": []
  }
 ],
 "metadata": {
  "kernelspec": {
   "display_name": "Python 3",
   "language": "python",
   "name": "python3"
  },
  "language_info": {
   "codemirror_mode": {
    "name": "ipython",
    "version": 3
   },
   "file_extension": ".py",
   "mimetype": "text/x-python",
   "name": "python",
   "nbconvert_exporter": "python",
   "pygments_lexer": "ipython3",
   "version": "3.6.3"
  }
 },
 "nbformat": 4,
 "nbformat_minor": 2
}
